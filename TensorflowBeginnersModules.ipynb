{
  "nbformat": 4,
  "nbformat_minor": 0,
  "metadata": {
    "colab": {
      "name": "TensorflowBeginnersModules.ipynb",
      "provenance": [],
      "collapsed_sections": [],
      "authorship_tag": "ABX9TyPcHK6J1fj4ujwinXhb78sP",
      "include_colab_link": true
    },
    "kernelspec": {
      "name": "python3",
      "display_name": "Python 3"
    }
  },
  "cells": [
    {
      "cell_type": "markdown",
      "metadata": {
        "id": "view-in-github",
        "colab_type": "text"
      },
      "source": [
        "<a href=\"https://colab.research.google.com/github/Atul-Kashyap/Tensorflow2.X/blob/master/TensorflowBeginnersModules.ipynb\" target=\"_parent\"><img src=\"https://colab.research.google.com/assets/colab-badge.svg\" alt=\"Open In Colab\"/></a>"
      ]
    },
    {
      "cell_type": "code",
      "metadata": {
        "id": "Y_9-Ckrkl2Z4",
        "colab_type": "code",
        "colab": {
          "base_uri": "https://localhost:8080/",
          "height": 112
        },
        "outputId": "2daae6e5-951a-4156-8464-0f29e0ffabe8"
      },
      "source": [
        "import tensorflow.compat.v1 as tf\n",
        "tf.disable_v2_behavior()\n",
        "print(tf.__version__)"
      ],
      "execution_count": null,
      "outputs": [
        {
          "output_type": "stream",
          "text": [
            "WARNING:tensorflow:From /usr/local/lib/python3.6/dist-packages/tensorflow/python/compat/v2_compat.py:96: disable_resource_variables (from tensorflow.python.ops.variable_scope) is deprecated and will be removed in a future version.\n",
            "Instructions for updating:\n",
            "non-resource variables are not supported in the long term\n",
            "2.2.0\n"
          ],
          "name": "stdout"
        }
      ]
    },
    {
      "cell_type": "code",
      "metadata": {
        "id": "XUeVjVDIr0zK",
        "colab_type": "code",
        "colab": {}
      },
      "source": [
        "hello = tf.constant(\"Hello\")"
      ],
      "execution_count": null,
      "outputs": []
    },
    {
      "cell_type": "code",
      "metadata": {
        "id": "tZYmymsG68CU",
        "colab_type": "code",
        "colab": {}
      },
      "source": [
        "world = tf.constant(\"World\")"
      ],
      "execution_count": null,
      "outputs": []
    },
    {
      "cell_type": "code",
      "metadata": {
        "id": "v8Q0PN_q7Gdp",
        "colab_type": "code",
        "colab": {
          "base_uri": "https://localhost:8080/",
          "height": 36
        },
        "outputId": "13c75888-94ad-4a74-d558-3f35e503595e"
      },
      "source": [
        "# hello is tensor object\n",
        "type(hello)"
      ],
      "execution_count": null,
      "outputs": [
        {
          "output_type": "execute_result",
          "data": {
            "text/plain": [
              "tensorflow.python.framework.ops.Tensor"
            ]
          },
          "metadata": {
            "tags": []
          },
          "execution_count": 24
        }
      ]
    },
    {
      "cell_type": "code",
      "metadata": {
        "id": "xHfnyfAd7Ukc",
        "colab_type": "code",
        "colab": {
          "base_uri": "https://localhost:8080/",
          "height": 36
        },
        "outputId": "61d7f352-0c2f-41d9-92ef-e3dc13e8bb86"
      },
      "source": [
        "print(hello)\n",
        "# hello is a constant and tensor object of string data type"
      ],
      "execution_count": null,
      "outputs": [
        {
          "output_type": "stream",
          "text": [
            "Tensor(\"Const_1:0\", shape=(), dtype=string)\n"
          ],
          "name": "stdout"
        }
      ]
    },
    {
      "cell_type": "code",
      "metadata": {
        "id": "ZTZemGZl7XGg",
        "colab_type": "code",
        "colab": {}
      },
      "source": [
        "# create a tensorflow session \n",
        "with tf.Session() as sess:\n",
        "  result = sess.run(hello+world)\n"
      ],
      "execution_count": null,
      "outputs": []
    },
    {
      "cell_type": "code",
      "metadata": {
        "id": "ClUUNq-s8b9_",
        "colab_type": "code",
        "colab": {
          "base_uri": "https://localhost:8080/",
          "height": 36
        },
        "outputId": "b2bea7b6-47e5-4fca-f5bc-dd2e07264dc0"
      },
      "source": [
        "print(result)\n",
        "# b represents bytes literals"
      ],
      "execution_count": null,
      "outputs": [
        {
          "output_type": "stream",
          "text": [
            "b'HelloWorld'\n"
          ],
          "name": "stdout"
        }
      ]
    },
    {
      "cell_type": "code",
      "metadata": {
        "id": "dlG9jUr-9w2w",
        "colab_type": "code",
        "colab": {}
      },
      "source": [
        "a = tf.constant(10)\n",
        "b = tf.constant(20)"
      ],
      "execution_count": null,
      "outputs": []
    },
    {
      "cell_type": "code",
      "metadata": {
        "id": "T7jCHbVT-akX",
        "colab_type": "code",
        "colab": {
          "base_uri": "https://localhost:8080/",
          "height": 36
        },
        "outputId": "8902d2a0-41fd-4e8a-8fd6-fbe0d08182b9"
      },
      "source": [
        "type(a)"
      ],
      "execution_count": null,
      "outputs": [
        {
          "output_type": "execute_result",
          "data": {
            "text/plain": [
              "tensorflow.python.framework.ops.Tensor"
            ]
          },
          "metadata": {
            "tags": []
          },
          "execution_count": 29
        }
      ]
    },
    {
      "cell_type": "code",
      "metadata": {
        "id": "Re3wahGJ-ceH",
        "colab_type": "code",
        "colab": {
          "base_uri": "https://localhost:8080/",
          "height": 36
        },
        "outputId": "2222ee24-0216-46a0-9008-17b64f984035"
      },
      "source": [
        "a + b"
      ],
      "execution_count": null,
      "outputs": [
        {
          "output_type": "execute_result",
          "data": {
            "text/plain": [
              "<tf.Tensor 'add_4:0' shape=() dtype=int32>"
            ]
          },
          "metadata": {
            "tags": []
          },
          "execution_count": 30
        }
      ]
    },
    {
      "cell_type": "code",
      "metadata": {
        "id": "CYIjal0F-ezm",
        "colab_type": "code",
        "colab": {
          "base_uri": "https://localhost:8080/",
          "height": 36
        },
        "outputId": "07533fb2-cd58-4026-a0e0-103b5dca861e"
      },
      "source": [
        "a + b"
      ],
      "execution_count": null,
      "outputs": [
        {
          "output_type": "execute_result",
          "data": {
            "text/plain": [
              "<tf.Tensor 'add_6:0' shape=() dtype=int32>"
            ]
          },
          "metadata": {
            "tags": []
          },
          "execution_count": 32
        }
      ]
    },
    {
      "cell_type": "code",
      "metadata": {
        "id": "2AFRxtFU-hpw",
        "colab_type": "code",
        "colab": {
          "base_uri": "https://localhost:8080/",
          "height": 36
        },
        "outputId": "fd445092-9fc2-45a9-ae49-ccf22f60e4c7"
      },
      "source": [
        "print(a+b)"
      ],
      "execution_count": null,
      "outputs": [
        {
          "output_type": "stream",
          "text": [
            "Tensor(\"add_7:0\", shape=(), dtype=int32)\n"
          ],
          "name": "stdout"
        }
      ]
    },
    {
      "cell_type": "code",
      "metadata": {
        "id": "MVvTQbq0-ond",
        "colab_type": "code",
        "colab": {}
      },
      "source": [
        "with tf.Session() as sess:\n",
        "  result = sess.run(a+b)"
      ],
      "execution_count": null,
      "outputs": []
    },
    {
      "cell_type": "code",
      "metadata": {
        "id": "DngyVq9R-4rh",
        "colab_type": "code",
        "colab": {
          "base_uri": "https://localhost:8080/",
          "height": 36
        },
        "outputId": "ee51b558-958b-47a0-d2f1-842949fed307"
      },
      "source": [
        "print(result)"
      ],
      "execution_count": null,
      "outputs": [
        {
          "output_type": "stream",
          "text": [
            "30\n"
          ],
          "name": "stdout"
        }
      ]
    },
    {
      "cell_type": "code",
      "metadata": {
        "id": "4vHJCLzN_CUz",
        "colab_type": "code",
        "colab": {}
      },
      "source": [
        "const = tf.constant(10)\n"
      ],
      "execution_count": null,
      "outputs": []
    },
    {
      "cell_type": "code",
      "metadata": {
        "id": "FcSnOPy-_vXg",
        "colab_type": "code",
        "colab": {}
      },
      "source": [
        "fill_mat = tf.fill((4,4),10)"
      ],
      "execution_count": null,
      "outputs": []
    },
    {
      "cell_type": "code",
      "metadata": {
        "id": "s-cuCqJ5_7S6",
        "colab_type": "code",
        "colab": {}
      },
      "source": [
        "myzero = tf.zeros((4,4))"
      ],
      "execution_count": null,
      "outputs": []
    },
    {
      "cell_type": "code",
      "metadata": {
        "id": "1hj8PWJM__91",
        "colab_type": "code",
        "colab": {}
      },
      "source": [
        "myone = tf.ones((4,4))"
      ],
      "execution_count": null,
      "outputs": []
    },
    {
      "cell_type": "code",
      "metadata": {
        "id": "OWWr5deWAF-Z",
        "colab_type": "code",
        "colab": {}
      },
      "source": [
        "myrandn = tf.random_normal((4,4), mean = 0, stddev = 1.0)"
      ],
      "execution_count": null,
      "outputs": []
    },
    {
      "cell_type": "code",
      "metadata": {
        "id": "GbeI3qqKARDy",
        "colab_type": "code",
        "colab": {}
      },
      "source": [
        "myrandu = tf.random_uniform((4,4),minval = 0, maxval = 10000)"
      ],
      "execution_count": null,
      "outputs": []
    },
    {
      "cell_type": "code",
      "metadata": {
        "id": "WJLq-Kn0Ak0N",
        "colab_type": "code",
        "colab": {
          "base_uri": "https://localhost:8080/",
          "height": 36
        },
        "outputId": "29971f1c-4cab-4b0d-ca10-0924aa42c01c"
      },
      "source": [
        "myzero"
      ],
      "execution_count": null,
      "outputs": [
        {
          "output_type": "execute_result",
          "data": {
            "text/plain": [
              "<tf.Tensor 'zeros:0' shape=(4, 4) dtype=float32>"
            ]
          },
          "metadata": {
            "tags": []
          },
          "execution_count": 44
        }
      ]
    },
    {
      "cell_type": "code",
      "metadata": {
        "id": "wudHldO9ApCc",
        "colab_type": "code",
        "colab": {}
      },
      "source": [
        "my_ops = [const,myzero,myone,myrandn, myrandu, myzero]"
      ],
      "execution_count": null,
      "outputs": []
    },
    {
      "cell_type": "code",
      "metadata": {
        "id": "oQw29grpBGVv",
        "colab_type": "code",
        "colab": {}
      },
      "source": [
        "sess = tf.InteractiveSession()"
      ],
      "execution_count": null,
      "outputs": []
    },
    {
      "cell_type": "code",
      "metadata": {
        "id": "fRSqYGAkBWk_",
        "colab_type": "code",
        "colab": {
          "base_uri": "https://localhost:8080/",
          "height": 634
        },
        "outputId": "8208a3cc-c329-4751-d3b8-d0efec45a2e6"
      },
      "source": [
        "for op in my_ops:\n",
        "  print(sess.run(op))\n",
        "  print(\"\\n\")\n"
      ],
      "execution_count": null,
      "outputs": [
        {
          "output_type": "stream",
          "text": [
            "10\n",
            "\n",
            "\n",
            "[[0. 0. 0. 0.]\n",
            " [0. 0. 0. 0.]\n",
            " [0. 0. 0. 0.]\n",
            " [0. 0. 0. 0.]]\n",
            "\n",
            "\n",
            "[[1. 1. 1. 1.]\n",
            " [1. 1. 1. 1.]\n",
            " [1. 1. 1. 1.]\n",
            " [1. 1. 1. 1.]]\n",
            "\n",
            "\n",
            "[[ 0.07448637 -1.042367   -0.03045169  0.15863459]\n",
            " [ 0.68213373 -1.6318685  -0.7973686  -0.14394327]\n",
            " [-1.5833719  -3.1363251   0.9187874   1.6929916 ]\n",
            " [-0.9358721  -0.40393215 -0.2658305  -2.508821  ]]\n",
            "\n",
            "\n",
            "[[3370.3684 9268.198  8444.548  3817.661 ]\n",
            " [4583.205  1245.0874 4499.0825 1858.2273]\n",
            " [1497.3319 8176.782  5944.872  3565.8252]\n",
            " [6781.2515 9346.455  8450.924  5796.1655]]\n",
            "\n",
            "\n",
            "[[0. 0. 0. 0.]\n",
            " [0. 0. 0. 0.]\n",
            " [0. 0. 0. 0.]\n",
            " [0. 0. 0. 0.]]\n",
            "\n",
            "\n"
          ],
          "name": "stdout"
        }
      ]
    },
    {
      "cell_type": "code",
      "metadata": {
        "id": "sS9wyFl1Bibh",
        "colab_type": "code",
        "colab": {}
      },
      "source": [
        "a = tf.constant([ [1,2],\n",
        "                 [3,4] ])\n"
      ],
      "execution_count": null,
      "outputs": []
    },
    {
      "cell_type": "code",
      "metadata": {
        "id": "loXPomWxCYh_",
        "colab_type": "code",
        "colab": {
          "base_uri": "https://localhost:8080/",
          "height": 36
        },
        "outputId": "b233d18b-5843-4f36-ab11-08a886dbe46c"
      },
      "source": [
        "a.get_shape()"
      ],
      "execution_count": null,
      "outputs": [
        {
          "output_type": "execute_result",
          "data": {
            "text/plain": [
              "TensorShape([Dimension(2), Dimension(2)])"
            ]
          },
          "metadata": {
            "tags": []
          },
          "execution_count": 50
        }
      ]
    },
    {
      "cell_type": "code",
      "metadata": {
        "id": "h8PSMtQhCbdh",
        "colab_type": "code",
        "colab": {}
      },
      "source": [
        "b = tf.constant([ [10], [100] ])"
      ],
      "execution_count": null,
      "outputs": []
    },
    {
      "cell_type": "code",
      "metadata": {
        "id": "5SlZwKKBCi3z",
        "colab_type": "code",
        "colab": {
          "base_uri": "https://localhost:8080/",
          "height": 36
        },
        "outputId": "64e939aa-8ede-4c9b-bd72-60b51c6428cd"
      },
      "source": [
        "b.get_shape()"
      ],
      "execution_count": null,
      "outputs": [
        {
          "output_type": "execute_result",
          "data": {
            "text/plain": [
              "TensorShape([Dimension(2), Dimension(1)])"
            ]
          },
          "metadata": {
            "tags": []
          },
          "execution_count": 52
        }
      ]
    },
    {
      "cell_type": "code",
      "metadata": {
        "id": "Z3KOoLtaCk5p",
        "colab_type": "code",
        "colab": {}
      },
      "source": [
        "result = tf.matmul(a,b)"
      ],
      "execution_count": null,
      "outputs": []
    },
    {
      "cell_type": "code",
      "metadata": {
        "id": "GDTMlTqtCqel",
        "colab_type": "code",
        "colab": {
          "base_uri": "https://localhost:8080/",
          "height": 54
        },
        "outputId": "e6437527-9856-41a4-bb94-ba39d9abd65e"
      },
      "source": [
        "with tf.Session() as sess:\n",
        "  print(sess.run(result))"
      ],
      "execution_count": null,
      "outputs": [
        {
          "output_type": "stream",
          "text": [
            "[[210]\n",
            " [430]]\n"
          ],
          "name": "stdout"
        }
      ]
    },
    {
      "cell_type": "code",
      "metadata": {
        "id": "fvn71jPlC0TV",
        "colab_type": "code",
        "colab": {
          "base_uri": "https://localhost:8080/",
          "height": 36
        },
        "outputId": "70c0e432-ff93-45b3-e0f7-f6e1c1848816"
      },
      "source": [
        "result.get_shape()"
      ],
      "execution_count": null,
      "outputs": [
        {
          "output_type": "execute_result",
          "data": {
            "text/plain": [
              "TensorShape([Dimension(2), Dimension(1)])"
            ]
          },
          "metadata": {
            "tags": []
          },
          "execution_count": 58
        }
      ]
    },
    {
      "cell_type": "code",
      "metadata": {
        "id": "sTUEliuGDF7V",
        "colab_type": "code",
        "colab": {
          "base_uri": "https://localhost:8080/",
          "height": 54
        },
        "outputId": "98e3e446-1efe-4991-b468-ec4a42d85622"
      },
      "source": [
        "result.eval()"
      ],
      "execution_count": null,
      "outputs": [
        {
          "output_type": "execute_result",
          "data": {
            "text/plain": [
              "array([[210],\n",
              "       [430]], dtype=int32)"
            ]
          },
          "metadata": {
            "tags": []
          },
          "execution_count": 59
        }
      ]
    },
    {
      "cell_type": "code",
      "metadata": {
        "id": "tXagVf_4DNA1",
        "colab_type": "code",
        "colab": {}
      },
      "source": [
        ""
      ],
      "execution_count": null,
      "outputs": []
    },
    {
      "cell_type": "markdown",
      "metadata": {
        "id": "7WsDRa4MIBPL",
        "colab_type": "text"
      },
      "source": [
        "Tensorflow Graph"
      ]
    },
    {
      "cell_type": "code",
      "metadata": {
        "id": "BB8djXHRIFwk",
        "colab_type": "code",
        "colab": {}
      },
      "source": [
        "n1 = tf.constant(1)\n",
        "n2 = tf.constant(2)\n",
        "n3 = n1 + n2"
      ],
      "execution_count": null,
      "outputs": []
    },
    {
      "cell_type": "code",
      "metadata": {
        "id": "MpDfJSArITij",
        "colab_type": "code",
        "colab": {}
      },
      "source": [
        "with tf.Session() as sess:\n",
        "  result = sess.run(n3)"
      ],
      "execution_count": null,
      "outputs": []
    },
    {
      "cell_type": "code",
      "metadata": {
        "id": "JRQ0fAY5IbC-",
        "colab_type": "code",
        "colab": {
          "base_uri": "https://localhost:8080/",
          "height": 36
        },
        "outputId": "04258fe5-158c-4887-cee7-a6a82b62ecac"
      },
      "source": [
        "print(result)"
      ],
      "execution_count": null,
      "outputs": [
        {
          "output_type": "stream",
          "text": [
            "3\n"
          ],
          "name": "stdout"
        }
      ]
    },
    {
      "cell_type": "code",
      "metadata": {
        "id": "en6iKvilIdLh",
        "colab_type": "code",
        "colab": {
          "base_uri": "https://localhost:8080/",
          "height": 36
        },
        "outputId": "aa6e7fe9-7e08-4878-8251-0a99b88018cf"
      },
      "source": [
        "print(n3)"
      ],
      "execution_count": null,
      "outputs": [
        {
          "output_type": "stream",
          "text": [
            "Tensor(\"add_9:0\", shape=(), dtype=int32)\n"
          ],
          "name": "stdout"
        }
      ]
    },
    {
      "cell_type": "code",
      "metadata": {
        "id": "447EJWDoIgie",
        "colab_type": "code",
        "colab": {
          "base_uri": "https://localhost:8080/",
          "height": 36
        },
        "outputId": "416d9f0a-599c-4f67-890b-099fa52b2527"
      },
      "source": [
        "print(tf.get_default_graph())"
      ],
      "execution_count": null,
      "outputs": [
        {
          "output_type": "stream",
          "text": [
            "<tensorflow.python.framework.ops.Graph object at 0x7f845d6214e0>\n"
          ],
          "name": "stdout"
        }
      ]
    },
    {
      "cell_type": "code",
      "metadata": {
        "id": "e4v5IDJ_JVyl",
        "colab_type": "code",
        "colab": {}
      },
      "source": [
        "g = tf.Graph()"
      ],
      "execution_count": null,
      "outputs": []
    },
    {
      "cell_type": "code",
      "metadata": {
        "id": "j-btndbgJZmO",
        "colab_type": "code",
        "colab": {
          "base_uri": "https://localhost:8080/",
          "height": 36
        },
        "outputId": "6b1f5d6e-463b-4f7e-99bf-719d34d5a616"
      },
      "source": [
        "print(g)"
      ],
      "execution_count": null,
      "outputs": [
        {
          "output_type": "stream",
          "text": [
            "<tensorflow.python.framework.ops.Graph object at 0x7f845a358ba8>\n"
          ],
          "name": "stdout"
        }
      ]
    },
    {
      "cell_type": "code",
      "metadata": {
        "id": "d1D2tXHtJdU3",
        "colab_type": "code",
        "colab": {}
      },
      "source": [
        "graph_one = tf.get_default_graph()"
      ],
      "execution_count": null,
      "outputs": []
    },
    {
      "cell_type": "code",
      "metadata": {
        "id": "nNGMjm9hJnhT",
        "colab_type": "code",
        "colab": {
          "base_uri": "https://localhost:8080/",
          "height": 36
        },
        "outputId": "20621e3d-362e-488d-8c92-a532db335e90"
      },
      "source": [
        "print(graph_one)"
      ],
      "execution_count": null,
      "outputs": [
        {
          "output_type": "stream",
          "text": [
            "<tensorflow.python.framework.ops.Graph object at 0x7f845d6214e0>\n"
          ],
          "name": "stdout"
        }
      ]
    },
    {
      "cell_type": "code",
      "metadata": {
        "id": "MUS1NnAeJtMf",
        "colab_type": "code",
        "colab": {}
      },
      "source": [
        "graph_two = tf.Graph()"
      ],
      "execution_count": null,
      "outputs": []
    },
    {
      "cell_type": "code",
      "metadata": {
        "id": "Xa4wHq94JzQP",
        "colab_type": "code",
        "colab": {
          "base_uri": "https://localhost:8080/",
          "height": 36
        },
        "outputId": "c35efc7c-a8e7-4983-d100-cf5855e8b486"
      },
      "source": [
        "print(graph_two)"
      ],
      "execution_count": null,
      "outputs": [
        {
          "output_type": "stream",
          "text": [
            "<tensorflow.python.framework.ops.Graph object at 0x7f845a573908>\n"
          ],
          "name": "stdout"
        }
      ]
    },
    {
      "cell_type": "code",
      "metadata": {
        "id": "j9B2jb8QJ189",
        "colab_type": "code",
        "colab": {
          "base_uri": "https://localhost:8080/",
          "height": 36
        },
        "outputId": "843c7494-68ed-49a5-f50d-df8f9fd39481"
      },
      "source": [
        "# there are two graph object graph_one and graph_two \n",
        "# graph_two is now default graph\n",
        "with graph_two.as_default():\n",
        "  print(graph_two is tf.get_default_graph())"
      ],
      "execution_count": null,
      "outputs": [
        {
          "output_type": "stream",
          "text": [
            "True\n"
          ],
          "name": "stdout"
        }
      ]
    },
    {
      "cell_type": "code",
      "metadata": {
        "id": "7OnLScw5KKT_",
        "colab_type": "code",
        "colab": {
          "base_uri": "https://localhost:8080/",
          "height": 36
        },
        "outputId": "def5da5e-3e29-4d14-a9d5-d54d08f03ea2"
      },
      "source": [
        "#  but here graph_two is not a default graph\n",
        "print(graph_two is tf.get_default_graph())"
      ],
      "execution_count": null,
      "outputs": [
        {
          "output_type": "stream",
          "text": [
            "False\n"
          ],
          "name": "stdout"
        }
      ]
    },
    {
      "cell_type": "code",
      "metadata": {
        "id": "dnbmM84tKPBD",
        "colab_type": "code",
        "colab": {
          "base_uri": "https://localhost:8080/",
          "height": 36
        },
        "outputId": "7539491d-7872-42af-90e9-59f3da8d3f70"
      },
      "source": [
        "here graph_one is default graph\n",
        "print(graph_one is tf.get_default_graph())"
      ],
      "execution_count": null,
      "outputs": [
        {
          "output_type": "stream",
          "text": [
            "True\n"
          ],
          "name": "stdout"
        }
      ]
    },
    {
      "cell_type": "code",
      "metadata": {
        "id": "kgwGbC34LNHw",
        "colab_type": "code",
        "colab": {}
      },
      "source": [
        ""
      ],
      "execution_count": null,
      "outputs": []
    },
    {
      "cell_type": "markdown",
      "metadata": {
        "id": "DnGw8nPgLZJN",
        "colab_type": "text"
      },
      "source": [
        "# **Variables and Placeholders**\n",
        "\n",
        "There are two types of tensor objects in a graph:\n",
        " \n",
        "\n",
        "1.   Variables\n",
        "2.   Placeholders\n",
        "\n",
        "\n",
        "\n",
        "Note: \n",
        "* During the optimization process, Tensorflow tunes the parameters of the model \n",
        "* Variables can hold the values of weights and biases throughout the session.\n",
        "Variables need to be initialized.\n",
        "\n",
        "\n",
        "* Placeholders are initially empty and are used to feed in the actual training examples.\n",
        "* However they do need a declared expected data type (tf.float32) with an optional shape argument.\n",
        "\n",
        "\n",
        "\n"
      ]
    },
    {
      "cell_type": "code",
      "metadata": {
        "id": "WW0_AB6MQUsR",
        "colab_type": "code",
        "colab": {
          "base_uri": "https://localhost:8080/",
          "height": 74
        },
        "outputId": "9bae789c-771e-402c-dac5-af7adbc65270"
      },
      "source": [
        "sess = tf.InteractiveSession()"
      ],
      "execution_count": null,
      "outputs": [
        {
          "output_type": "stream",
          "text": [
            "/usr/local/lib/python3.6/dist-packages/tensorflow/python/client/session.py:1751: UserWarning: An interactive session is already active. This can cause out-of-memory errors in some cases. You must explicitly call `InteractiveSession.close()` to release resources held by the other session(s).\n",
            "  warnings.warn('An interactive session is already active. This can '\n"
          ],
          "name": "stderr"
        }
      ]
    },
    {
      "cell_type": "code",
      "metadata": {
        "id": "tIMC1Ut_OB3O",
        "colab_type": "code",
        "colab": {}
      },
      "source": [
        "my_tensor = tf.random_uniform((4,4),0, 1)"
      ],
      "execution_count": null,
      "outputs": []
    },
    {
      "cell_type": "code",
      "metadata": {
        "id": "DSf3xlewP6Bt",
        "colab_type": "code",
        "colab": {
          "base_uri": "https://localhost:8080/",
          "height": 36
        },
        "outputId": "434e1c1d-19b8-4288-d761-b4c2e4c64454"
      },
      "source": [
        "print(my_tensor)"
      ],
      "execution_count": null,
      "outputs": [
        {
          "output_type": "stream",
          "text": [
            "Tensor(\"random_uniform_3/RandomUniform:0\", shape=(4, 4), dtype=float32)\n"
          ],
          "name": "stdout"
        }
      ]
    },
    {
      "cell_type": "code",
      "metadata": {
        "id": "6iKyGD90P9CU",
        "colab_type": "code",
        "colab": {}
      },
      "source": [
        "my_var = tf.Variable(initial_value = my_tensor)"
      ],
      "execution_count": null,
      "outputs": []
    },
    {
      "cell_type": "code",
      "metadata": {
        "id": "kC_bU2ObQp6G",
        "colab_type": "code",
        "colab": {
          "base_uri": "https://localhost:8080/",
          "height": 36
        },
        "outputId": "ed5c3e93-aa9f-45b5-acba-5f3252fd116a"
      },
      "source": [
        "print(my_var)"
      ],
      "execution_count": null,
      "outputs": [
        {
          "output_type": "stream",
          "text": [
            "<tf.Variable 'Variable:0' shape=(4, 4) dtype=float32_ref>\n"
          ],
          "name": "stdout"
        }
      ]
    },
    {
      "cell_type": "code",
      "metadata": {
        "id": "F0AKvqclQ9Np",
        "colab_type": "code",
        "colab": {}
      },
      "source": [
        "#if you try to run the session then it shows error because you need to initialize thr global variables\n",
        "#sess.run(my_var)"
      ],
      "execution_count": null,
      "outputs": []
    },
    {
      "cell_type": "code",
      "metadata": {
        "id": "MaQ94JWdRThg",
        "colab_type": "code",
        "colab": {}
      },
      "source": [
        "init = tf.global_variables_initializer()"
      ],
      "execution_count": null,
      "outputs": []
    },
    {
      "cell_type": "code",
      "metadata": {
        "id": "QyVh32NcRi6x",
        "colab_type": "code",
        "colab": {}
      },
      "source": [
        "sess.run(init)"
      ],
      "execution_count": null,
      "outputs": []
    },
    {
      "cell_type": "code",
      "metadata": {
        "id": "KGznrOaRRlzO",
        "colab_type": "code",
        "colab": {
          "base_uri": "https://localhost:8080/",
          "height": 92
        },
        "outputId": "13e1723a-0c50-48d6-889c-e010c98a854f"
      },
      "source": [
        "sess.run(my_var)"
      ],
      "execution_count": null,
      "outputs": [
        {
          "output_type": "execute_result",
          "data": {
            "text/plain": [
              "array([[0.8909323 , 0.32109165, 0.09439862, 0.44643867],\n",
              "       [0.7875365 , 0.50206137, 0.25335002, 0.95415175],\n",
              "       [0.4595939 , 0.5315008 , 0.11069953, 0.67650855],\n",
              "       [0.08320606, 0.19642305, 0.0992415 , 0.99891937]], dtype=float32)"
            ]
          },
          "metadata": {
            "tags": []
          },
          "execution_count": 91
        }
      ]
    },
    {
      "cell_type": "code",
      "metadata": {
        "id": "eF5JAmUiRpk_",
        "colab_type": "code",
        "colab": {}
      },
      "source": [
        "ph = tf.placeholder(tf.float32, shape=(None,5))"
      ],
      "execution_count": null,
      "outputs": []
    },
    {
      "cell_type": "code",
      "metadata": {
        "id": "gK5e_R__UOdH",
        "colab_type": "code",
        "colab": {}
      },
      "source": [
        ""
      ],
      "execution_count": null,
      "outputs": []
    }
  ]
}